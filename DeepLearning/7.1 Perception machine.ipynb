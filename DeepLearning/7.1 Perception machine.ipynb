{
 "cells": [
  {
   "cell_type": "markdown",
   "metadata": {},
   "source": [
    "# **感知机**"
   ]
  },
  {
   "cell_type": "markdown",
   "metadata": {},
   "source": [
    "给定输入x，权重w 和偏移b，感知机输出：\n",
    "$\n",
    "\\mathscr{o}=\\sigma(<\\pmb{w,x}>+b)\\\\\n",
    "\\sigma(x)=1，当x>0时\\\\\n",
    "\\sigma(x)=-1，其他\n",
    "$"
   ]
  },
  {
   "cell_type": "markdown",
   "metadata": {},
   "source": [
    "二分类：1或-1\n",
    "* 线性回归输出实数  \n",
    "* Softmax回归输出概率  "
   ]
  },
  {
   "cell_type": "markdown",
   "metadata": {},
   "source": [
    "### **训练感知机**"
   ]
  },
  {
   "cell_type": "markdown",
   "metadata": {},
   "source": [
    "```\n",
    "initialize w=0 and b=0  \n",
    "repeat  \n",
    "  if yi[<w,xi>+b]<=0 then  \n",
    "  w=w+yi*xi and b=b+yi  \n",
    "  end if\n",
    "until all classified correctly\n",
    "```"
   ]
  },
  {
   "cell_type": "markdown",
   "metadata": {},
   "source": [
    "等价于使用批量大小为1的梯度下降，并使用如下的损失函数：\n",
    "$\n",
    "\\mathscr{L}(y,\\pmb{x,w})=max(0,-y<\\pmb{x,w}>)\n",
    "$"
   ]
  },
  {
   "cell_type": "markdown",
   "metadata": {},
   "source": [
    "如果分类正确，则$-y<w,x><0$，则$max$输出为0，即梯度为常数，不需要更新参数。  \n",
    "如果分类错误，则$-y<w,x>>0$，即梯度需要更新。"
   ]
  },
  {
   "cell_type": "markdown",
   "metadata": {},
   "source": [
    "### **收敛定理**"
   ]
  },
  {
   "cell_type": "markdown",
   "metadata": {},
   "source": [
    "* 数据在半径$r$内  \n",
    "* 余量$\\rho$分类两类  $y(x^Tw+b)\\ge \\rho$ $\\\\$\n",
    "对于$\\left \\|w\\right \\|^2+b^2\\le1 $  \n",
    "* 感知机保证在$\\frac{r^2+1}{\\rho^2}$步后收敛"
   ]
  },
  {
   "cell_type": "markdown",
   "metadata": {},
   "source": [
    "### **总结**"
   ]
  },
  {
   "cell_type": "markdown",
   "metadata": {},
   "source": [
    "感知机是一个二分类模型，是最早AI模型之一  \n",
    "它的求解算法等价于使用批量大小为1的梯度下降  \n",
    "塔不能拟合XOR函数，导致AI的第一次寒冬"
   ]
  },
  {
   "cell_type": "markdown",
   "metadata": {},
   "source": []
  }
 ],
 "metadata": {
  "interpreter": {
   "hash": "3b09108e514517bd5e4a6e228723cfb42d49fc72c35aeaac957cf3be0497138a"
  },
  "kernelspec": {
   "display_name": "Python 3.8.12 ('py38')",
   "language": "python",
   "name": "python3"
  },
  "language_info": {
   "name": "python",
   "version": "3.8.12"
  },
  "orig_nbformat": 4
 },
 "nbformat": 4,
 "nbformat_minor": 2
}
