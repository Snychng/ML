{
 "cells": [
  {
   "cell_type": "markdown",
   "metadata": {},
   "source": [
    "## **线性回归**"
   ]
  },
  {
   "cell_type": "markdown",
   "metadata": {},
   "source": [
    "##### **线性模型**"
   ]
  },
  {
   "cell_type": "markdown",
   "metadata": {},
   "source": [
    "* 给定$n$维输入  \n",
    "   $\n",
    "   x=[x_1,x_2,...,x_n]^T$"
   ]
  },
  {
   "cell_type": "markdown",
   "metadata": {},
   "source": [
    "* 给定线性模型有一个$n$维权重和一个标量偏差  \n",
    "   $\n",
    "   w=[w_1,w_2,...,w_n]^T, b$\n"
   ]
  },
  {
   "cell_type": "markdown",
   "metadata": {},
   "source": [
    "* 输出是输入的加权和  \n",
    "        $\n",
    "        y=w_1x_1+w_2x_2+...+w_nx_n+b$  \n",
    "        \n",
    "   或者是向量版本  \n",
    "        $\n",
    "        y=<w,x>+b$"
   ]
  },
  {
   "cell_type": "markdown",
   "metadata": {},
   "source": [
    ">线性模型可以看成是单层神经网络"
   ]
  },
  {
   "cell_type": "markdown",
   "metadata": {},
   "source": [
    "##### **损失函数**"
   ]
  },
  {
   "cell_type": "markdown",
   "metadata": {},
   "source": [
    "* 比较真实值和预估值</br>\n"
   ]
  },
  {
   "cell_type": "markdown",
   "metadata": {},
   "source": [
    "* 假设$y$是真实值，$\\hat{y}$是估计值，我们可以比较 \n",
    "   \n",
    "    $\n",
    "    \\mathscr{L}(y,\\hat{y})=\\frac{1}{2}(y-\\hat{y})^2$  \n",
    "\n",
    "    也叫做平方损失函数"
   ]
  },
  {
   "cell_type": "markdown",
   "metadata": {},
   "source": [
    "##### **训练数据**"
   ]
  },
  {
   "cell_type": "markdown",
   "metadata": {},
   "source": [
    "* 收集一些数据点来决定参数值(权重和偏差)，称之为*训练数据*，通常越多越好"
   ]
  },
  {
   "cell_type": "markdown",
   "metadata": {},
   "source": [
    "* 假设我们有n个样本，记  \n",
    "  $\\pmb{X}=[x_1,x_2,...,x_n]^T  \n",
    "  \\pmb{y}=[y_1,y_2,...,y_n]^T$"
   ]
  },
  {
   "cell_type": "markdown",
   "metadata": {},
   "source": [
    "##### **参数学习**"
   ]
  },
  {
   "cell_type": "markdown",
   "metadata": {},
   "source": [
    "* 训练损失  \n",
    "   $\n",
    "   \\mathscr{L}(\\pmb{X,y,w},b)=\\frac{1}{2n}\\sum_{i=1}^n(y_i-<\\pmb{x_i,w}>-b)^2=\\frac{1}{2n}\\left\\|\\pmb{y-Xw}-b\\right\\|^2$"
   ]
  },
  {
   "cell_type": "markdown",
   "metadata": {},
   "source": [
    "* 最小化损失来学习参数  \n",
    "   $\n",
    "   \\pmb{w^*,b^*}=arg\\underset {\\pmb{w},b}{min}\\mathscr{L}(\\pmb{X,y,w},b)$"
   ]
  },
  {
   "cell_type": "markdown",
   "metadata": {},
   "source": [
    "##### **显式解**"
   ]
  },
  {
   "cell_type": "markdown",
   "metadata": {},
   "source": [
    "* 将偏差加入权重 $X\\leftarrow[X,1],w\\leftarrow[w,b]$"
   ]
  },
  {
   "cell_type": "markdown",
   "metadata": {},
   "source": [
    "$\n",
    "\\mathscr{L}(\\pmb{X,y,w})=\\frac{1}{2n}\\left\\|\\pmb{y-Xw}\\right\\|^2，\\frac{\\partial }{\\partial w}\\mathscr{L}(\\pmb{X,y,w})=\\frac{1}{n}(\\pmb{y-Xw})^T\\pmb{X}\n",
    "$"
   ]
  },
  {
   "cell_type": "markdown",
   "metadata": {},
   "source": [
    "* 损失是凸函数，所以最优解满足***梯度为 0***"
   ]
  },
  {
   "cell_type": "markdown",
   "metadata": {},
   "source": [
    "$\n",
    "\\frac{\\partial }{\\partial w}\\mathscr{L}(\\pmb{X,y,w})=0  \n",
    "\\pmb{\\Leftrightarrow}\\frac{1}{n}(\\pmb{y-Xw})^T\\pmb{X}=0  \n",
    "\\pmb{\\Leftrightarrow} \\pmb{w^*}=(\\pmb{X^TX})^{-1}\\pmb{X^Ty}\n",
    "$"
   ]
  },
  {
   "cell_type": "markdown",
   "metadata": {},
   "source": [
    "##### **总结**"
   ]
  },
  {
   "cell_type": "markdown",
   "metadata": {},
   "source": [
    "* 线性回归是对$n$维输入的加权，外加偏差"
   ]
  },
  {
   "cell_type": "markdown",
   "metadata": {},
   "source": [
    "* 使用平方损失函数来衡量预测值和真实值的差异"
   ]
  },
  {
   "cell_type": "markdown",
   "metadata": {},
   "source": [
    "* 线性回归有显式解"
   ]
  },
  {
   "cell_type": "markdown",
   "metadata": {},
   "source": [
    "* 线性回归可以看作是单层神经网络"
   ]
  },
  {
   "cell_type": "markdown",
   "metadata": {},
   "source": []
  }
 ],
 "metadata": {
  "interpreter": {
   "hash": "3b09108e514517bd5e4a6e228723cfb42d49fc72c35aeaac957cf3be0497138a"
  },
  "kernelspec": {
   "display_name": "Python 3.8.12 64-bit ('py38': conda)",
   "language": "python",
   "name": "python3"
  },
  "language_info": {
   "codemirror_mode": {
    "name": "ipython",
    "version": 3
   },
   "file_extension": ".py",
   "mimetype": "text/x-python",
   "name": "python",
   "nbconvert_exporter": "python",
   "pygments_lexer": "ipython3",
   "version": "3.8.12"
  },
  "orig_nbformat": 4
 },
 "nbformat": 4,
 "nbformat_minor": 2
}
