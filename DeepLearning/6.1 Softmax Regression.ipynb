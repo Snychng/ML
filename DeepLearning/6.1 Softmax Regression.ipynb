{
 "cells": [
  {
   "cell_type": "markdown",
   "metadata": {},
   "source": [
    "# **Softmax回归**"
   ]
  },
  {
   "cell_type": "markdown",
   "metadata": {},
   "source": [
    "### **回归和分类**"
   ]
  },
  {
   "cell_type": "markdown",
   "metadata": {},
   "source": [
    "**回归** 估计一个连续值   \n",
    "* 单连续数值输出  \n",
    "* 自然区间$\\mathcal{R}$  \n",
    "* 和真实值的区别作为损失"
   ]
  },
  {
   "cell_type": "markdown",
   "metadata": {},
   "source": [
    "**分类** 预测一个离散类别  \n",
    "* 通常多个输出  \n",
    "* 输出i是预测为第i类的置信度\n",
    "> * MNIST:手写数字识别  \n",
    "> * ImageNet：自然物体分类  "
   ]
  },
  {
   "cell_type": "markdown",
   "metadata": {},
   "source": [
    "### **Softmax和交叉熵损失**"
   ]
  },
  {
   "cell_type": "markdown",
   "metadata": {},
   "source": [
    "* 交叉熵常用来衡量两个概率的区别 $H(p,q)=\\sum_{i}-p_ilog(q_i)$  \n",
    "        \n",
    "* 将它作为损失 $l(y,\\hat{y})=-\\sum_iy_i\\log\\hat{y}_i=-\\log\\hat{y}_y$"
   ]
  },
  {
   "cell_type": "markdown",
   "metadata": {},
   "source": [
    "### **总结**"
   ]
  },
  {
   "cell_type": "markdown",
   "metadata": {},
   "source": [
    "* Softmax回归是一个多类分类模型  \n",
    "* 使用Softmax操作子得到每个类的预测置信度  \n",
    "* 使用交叉熵来衡量预测和标号的区别  "
   ]
  },
  {
   "cell_type": "markdown",
   "metadata": {},
   "source": []
  }
 ],
 "metadata": {
  "language_info": {
   "name": "python"
  },
  "orig_nbformat": 4
 },
 "nbformat": 4,
 "nbformat_minor": 2
}
