{
 "cells": [
  {
   "cell_type": "markdown",
   "metadata": {},
   "source": [
    "## **基础优化算法**"
   ]
  },
  {
   "cell_type": "markdown",
   "metadata": {},
   "source": [
    "##### **梯度下降**"
   ]
  },
  {
   "cell_type": "markdown",
   "metadata": {},
   "source": [
    "* 挑选一个初始值$\\pmb{w_0}$"
   ]
  },
  {
   "cell_type": "markdown",
   "metadata": {},
   "source": [
    "* 重复迭代参数 $t=1,2,3$  \n",
    "    $\n",
    "    \\pmb{w_t}=\\pmb{w_{t-1}}-\\eta\\frac{\\partial\\mathscr{L}}{\\partial\\pmb{w_{t-1}}}\n",
    "    $"
   ]
  },
  {
   "cell_type": "markdown",
   "metadata": {},
   "source": [
    "> 沿梯度($\\pmb{w}$)方向将增加损失函数值  \n",
    "> 学习率($\\eta$)：步长的**超参数**  \n",
    "> > *选择学习率，不能太大 会震荡，不能太小 学习较慢。*"
   ]
  },
  {
   "cell_type": "markdown",
   "metadata": {},
   "source": [
    "##### **小批量随即下降**"
   ]
  },
  {
   "cell_type": "markdown",
   "metadata": {},
   "source": [
    "* 在整个训练集上算梯度太贵  \n",
    "  \n",
    "  * 一个神经网络模型可能需要数分钟至数小时。  "
   ]
  },
  {
   "cell_type": "markdown",
   "metadata": {},
   "source": [
    "* 我们可以随机采样b个样本$i_1,i_2,...,i_b$来近似损失    \n",
    "\n",
    "    $\n",
    "    \\frac{1}{b}\\sum\\mathscr{L}(\\pmb{b_i},y_i,\\pmb{w})$   \n",
    "    * 其中b是批处理大小，另一个重要的超参数。"
   ]
  },
  {
   "cell_type": "markdown",
   "metadata": {},
   "source": [
    "> 选择**批量**大小：  \n",
    ">   不能太大；内存消耗增加，浪费计算，例如计算的所有样本都是相同的。  \n",
    ">   不能太小；每次计算量太小，不适合并行来最大利用计算资源。  "
   ]
  },
  {
   "cell_type": "markdown",
   "metadata": {},
   "source": [
    "##### **总结**"
   ]
  },
  {
   "cell_type": "markdown",
   "metadata": {},
   "source": [
    "* 梯度下降通过不断沿着反梯度方向更新参数求解  \n",
    "* 小批量随机梯度下降是深度学习默认的求解算法  \n",
    "* 两个重要的超参数是批量大小和学习率"
   ]
  },
  {
   "cell_type": "markdown",
   "metadata": {},
   "source": []
  }
 ],
 "metadata": {
  "interpreter": {
   "hash": "3b09108e514517bd5e4a6e228723cfb42d49fc72c35aeaac957cf3be0497138a"
  },
  "kernelspec": {
   "display_name": "Python 3.8.12 ('py38')",
   "language": "python",
   "name": "python3"
  },
  "language_info": {
   "name": "python",
   "version": "3.8.12"
  },
  "orig_nbformat": 4
 },
 "nbformat": 4,
 "nbformat_minor": 2
}
